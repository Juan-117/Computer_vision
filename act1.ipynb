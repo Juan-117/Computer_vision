{
 "cells": [
  {
   "cell_type": "code",
   "execution_count": 1,
   "metadata": {},
   "outputs": [
    {
     "name": "stderr",
     "output_type": "stream",
     "text": [
      "c:\\Users\\jmanc\\OneDrive\\Documentos\\computer_vision\\visionEnv\\Scripts\\python.exe: No module named pip3\n"
     ]
    }
   ],
   "source": [
    "import sys \n",
    "! {sys.executable} -m pip3 install cv2"
   ]
  },
  {
   "cell_type": "code",
   "execution_count": 2,
   "metadata": {},
   "outputs": [],
   "source": [
    "import cv2\n",
    "\n",
    "## Toma video usando la webcam principal\n",
    "cap = cv2.VideoCapture(0)\n",
    "\n",
    "## se definen los límites de grabación\n",
    "width = int(cap.get(cv2.CAP_PROP_FRAME_WIDTH))\n",
    "height = int(cap.get(cv2.CAP_PROP_FRAME_HEIGHT))\n",
    "\n",
    "## objeto para escribir frame a frame el video normal\n",
    "writerN = cv2.VideoWriter('normal.mp4', cv2.VideoWriter_fourcc(*'mp4v'),20, (width,height))\n",
    "\n",
    "## se escribe frame a frame a la salida normal.mp4 hasta oprimir 'q'\n",
    "while True:\n",
    "    ret, frame = cap.read()\n",
    "    if cv2.waitKey(1) & 0xFF == ord('q'):\n",
    "        break\n",
    "    writerN.write(frame)\n",
    "    cv2.imshow('frame', frame)\n",
    "\n",
    "cap.release()\n",
    "writerN.release()\n",
    "cv2.destroyAllWindows()"
   ]
  },
  {
   "cell_type": "code",
   "execution_count": 3,
   "metadata": {},
   "outputs": [],
   "source": [
    "## objeto para escribir frame a frame el video en reversa\n",
    "writerR = cv2.VideoWriter('reversed.mp4', cv2.VideoWriter_fourcc(*'mp4v'),20, (width,height))\n",
    "\n",
    "## la captura viene del video previamente grabado y guardado como \"normal.mp4\"\n",
    "capN = cv2.VideoCapture('normal.mp4')\n",
    "\n",
    "## se lee el frame actual \n",
    "check, vid = capN.read()\n",
    "\n",
    "## se define la lista donde se guardara cada frame\n",
    "frame_list = []\n",
    "\n",
    "## se itera el video normal y se agrega a la lista cada frame\n",
    "while (check == True):\n",
    "    check, vid = capN.read()\n",
    "    frame_list.append(vid)\n",
    "\n",
    "## se quita el último elemento\n",
    "frame_list.pop()\n",
    "\n",
    "## se invierte el orden de los frames\n",
    "frame_list.reverse()\n",
    "\n",
    "## se escribe frame a frame el video a la salida reversed.mp4\n",
    "for frame in frame_list:\n",
    "    if frame is not None:  \n",
    "        writerR.write(frame)\n",
    "\n",
    "\n",
    "capN.release()\n",
    "writerR.release()\n",
    "cv2.destroyAllWindows()"
   ]
  },
  {
   "cell_type": "code",
   "execution_count": 5,
   "metadata": {},
   "outputs": [],
   "source": [
    "## se realiza la captura de los videos guardados previamente\n",
    "capN = cv2.VideoCapture('normal.mp4')\n",
    "capR = cv2.VideoCapture('reversed.mp4')\n",
    "\n",
    "## objeto para escribir a la salidad \"joined.mp4\"\n",
    "writerJ = cv2.VideoWriter('joined.mp4', cv2.VideoWriter_fourcc(*'mp4v'),20, (width,height))\n",
    "\n",
    "# se lee el frame actual del video normal\n",
    "check, vid = capN.read()\n",
    "\n",
    "# se define la lista donde se guardará cada frame\n",
    "frame_list = []\n",
    "\n",
    "# se itera el video normal y se agrega a la lista cada frame\n",
    "while (check == True):\n",
    "    check, vid = capN.read()\n",
    "    frame_list.append(vid)\n",
    "\n",
    "# se lee el frame actual del video invertido\n",
    "check, vid = capR.read()\n",
    "\n",
    "# se itera el video invertido y se agrega a la lista cada frame\n",
    "while (check == True):\n",
    "    check, vid = capR.read()\n",
    "    frame_list.append(vid)\n",
    "\n",
    "## se escribe frame a frame el video a la salida joined.mp4\n",
    "for frame in frame_list:\n",
    "    if frame is not None:  \n",
    "        writerJ.write(frame)\n",
    "\n",
    "capN.release()\n",
    "capR.release()\n",
    "writerR.release()\n",
    "writerN.release()\n",
    "cv2.destroyAllWindows()"
   ]
  }
 ],
 "metadata": {
  "kernelspec": {
   "display_name": "visionEnv",
   "language": "python",
   "name": "python3"
  },
  "language_info": {
   "codemirror_mode": {
    "name": "ipython",
    "version": 3
   },
   "file_extension": ".py",
   "mimetype": "text/x-python",
   "name": "python",
   "nbconvert_exporter": "python",
   "pygments_lexer": "ipython3",
   "version": "3.11.9"
  }
 },
 "nbformat": 4,
 "nbformat_minor": 2
}
